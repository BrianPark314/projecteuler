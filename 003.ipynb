{
 "cells": [
  {
   "attachments": {},
   "cell_type": "markdown",
   "metadata": {},
   "source": [
    "# 가장 큰 소인수 구하기\n",
    "Problem 3\n",
    "\n",
    "출제 일시 : 2012-01-03 19:11:35, ☕\n",
    "\n",
    "어떤 수를 소수의 곱으로만 나타내는 것을 소인수분해라 하고, 이 소수들을 그 수의 소인수라고 합니다.\n",
    "예를 들면 13195의 소인수는 5, 7, 13, 29 입니다.\n",
    "\n",
    "600851475143의 소인수 중에서 가장 큰 수를 구하세요."
   ]
  },
  {
   "attachments": {},
   "cell_type": "markdown",
   "metadata": {},
   "source": [
    "먼저 떠오르는 생각은 N부터 시작해서 나누어 떨어지는지 구하고, 이를 소수인지 확인하는 과정을 거치면 된다는 것이다. "
   ]
  },
  {
   "cell_type": "code",
   "execution_count": 21,
   "metadata": {},
   "outputs": [],
   "source": [
    "import numpy as np\n",
    "\n",
    "def isprime(n):\n",
    "    if n == 1:\n",
    "        return False\n",
    "    if n == 2:\n",
    "        return True\n",
    "    if n%2 == 0:\n",
    "        return False\n",
    "    for i in range(3, n//2):\n",
    "        if n%i == 0:\n",
    "            return False\n",
    "    return True"
   ]
  },
  {
   "cell_type": "code",
   "execution_count": 24,
   "metadata": {},
   "outputs": [
    {
     "name": "stdout",
     "output_type": "stream",
     "text": [
      "None\n",
      "2\n",
      "3\n",
      "None\n",
      "5\n",
      "None\n",
      "7\n",
      "None\n",
      "None\n",
      "None\n",
      "11\n",
      "None\n",
      "13\n",
      "None\n",
      "None\n",
      "None\n",
      "17\n",
      "None\n",
      "19\n",
      "None\n",
      "None\n",
      "None\n",
      "23\n",
      "None\n",
      "None\n",
      "None\n",
      "None\n",
      "None\n",
      "29\n",
      "None\n",
      "31\n",
      "None\n",
      "None\n",
      "None\n",
      "None\n",
      "None\n",
      "37\n",
      "None\n",
      "None\n",
      "None\n",
      "41\n",
      "None\n",
      "43\n",
      "None\n",
      "None\n",
      "None\n",
      "47\n",
      "None\n",
      "None\n",
      "None\n",
      "None\n",
      "None\n",
      "53\n",
      "None\n",
      "None\n",
      "None\n",
      "None\n",
      "None\n",
      "59\n",
      "None\n",
      "61\n",
      "None\n",
      "None\n",
      "None\n",
      "None\n",
      "None\n",
      "67\n",
      "None\n",
      "None\n",
      "None\n",
      "71\n",
      "None\n",
      "73\n",
      "None\n",
      "None\n",
      "None\n",
      "None\n",
      "None\n",
      "79\n",
      "None\n",
      "None\n",
      "None\n",
      "83\n",
      "None\n",
      "None\n",
      "None\n",
      "None\n",
      "None\n",
      "89\n",
      "None\n",
      "None\n",
      "None\n",
      "None\n",
      "None\n",
      "None\n",
      "None\n",
      "97\n",
      "None\n",
      "None\n"
     ]
    }
   ],
   "source": [
    "for i in range(1, 100):\n",
    "    print(i if isprime(i) else None)"
   ]
  },
  {
   "cell_type": "code",
   "execution_count": 34,
   "metadata": {},
   "outputs": [
    {
     "name": "stdout",
     "output_type": "stream",
     "text": [
      "6857.0\n"
     ]
    }
   ],
   "source": [
    "n = 600851475143\n",
    "for i in range(2, n//2):\n",
    "    if n%i==0 and isprime(n//i): \n",
    "        print(n/i)\n",
    "        break;"
   ]
  },
  {
   "attachments": {},
   "cell_type": "markdown",
   "metadata": {},
   "source": [
    "혹시 했지만 안된다 ㅋㅋ 6천억개를 일일이 체크하고 나머지를 구하는게 사실 말도 안되는 일이긴 하다. \\\n",
    "역으로 큰 수부터 구하려 하지 말고 작은 수부터 약수를 구하고 n을 그 약수로 나눈 나머지가 소수인지 체크하니 매우 금방 풀렸다!!"
   ]
  },
  {
   "cell_type": "markdown",
   "metadata": {},
   "source": []
  }
 ],
 "metadata": {
  "kernelspec": {
   "display_name": "base",
   "language": "python",
   "name": "python3"
  },
  "language_info": {
   "codemirror_mode": {
    "name": "ipython",
    "version": 3
   },
   "file_extension": ".py",
   "mimetype": "text/x-python",
   "name": "python",
   "nbconvert_exporter": "python",
   "pygments_lexer": "ipython3",
   "version": "3.9.16"
  },
  "orig_nbformat": 4
 },
 "nbformat": 4,
 "nbformat_minor": 2
}

{
 "cells": [
  {
   "attachments": {},
   "cell_type": "markdown",
   "metadata": {},
   "source": [
    "# 1부터 100까지 \"제곱의 합\"과 \"합의 제곱\"의 차는?\n",
    "Problem 6\n",
    "\n",
    "출제 일시 : 2012-01-03 19:11:35, ☕\n",
    "\n",
    "1부터 10까지 자연수를 각각 제곱해 더하면 다음과 같습니다 (제곱의 합).\n",
    "\n",
    "12 + 22 + ... + 102 = 385\n",
    "1부터 10을 먼저 더한 다음에 그 결과를 제곱하면 다음과 같습니다 (합의 제곱).\n",
    "\n",
    "(1 + 2 + ... + 10)2 = 552 = 3025\n",
    "따라서 1부터 10까지 자연수에 대해 \"합의 제곱\"과 \"제곱의 합\" 의 차이는 3025 - 385 = 2640 이 됩니다.\n",
    "\n",
    "그러면 1부터 100까지 자연수에 대해 \"합의 제곱\"과 \"제곱의 합\"의 차이는 얼마입니까?"
   ]
  },
  {
   "cell_type": "code",
   "execution_count": 1,
   "metadata": {},
   "outputs": [
    {
     "data": {
      "text/plain": [
       "25164150"
      ]
     },
     "execution_count": 1,
     "metadata": {},
     "output_type": "execute_result"
    }
   ],
   "source": [
    "sum1 = 0\n",
    "sum2 = 0\n",
    "for i in range(1, 101):\n",
    "    sum1 += i**2\n",
    "    sum2 += i\n",
    "\n",
    "sum2**2-sum1\n"
   ]
  },
  {
   "cell_type": "code",
   "execution_count": null,
   "metadata": {},
   "outputs": [],
   "source": []
  }
 ],
 "metadata": {
  "kernelspec": {
   "display_name": "base",
   "language": "python",
   "name": "python3"
  },
  "language_info": {
   "codemirror_mode": {
    "name": "ipython",
    "version": 3
   },
   "file_extension": ".py",
   "mimetype": "text/x-python",
   "name": "python",
   "nbconvert_exporter": "python",
   "pygments_lexer": "ipython3",
   "version": "3.9.16"
  },
  "orig_nbformat": 4
 },
 "nbformat": 4,
 "nbformat_minor": 2
}
